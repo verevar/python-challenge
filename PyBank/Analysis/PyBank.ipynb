{
 "cells": [
  {
   "cell_type": "code",
   "execution_count": 1,
   "id": "00b34f9d-2629-4735-9edf-686f2e732a2c",
   "metadata": {},
   "outputs": [],
   "source": [
    "import os\n",
    "import pandas as pd"
   ]
  },
  {
   "cell_type": "code",
   "execution_count": 2,
   "id": "15eaa19e-6b92-4510-8e02-1da72526dae7",
   "metadata": {},
   "outputs": [
    {
     "data": {
      "text/plain": [
       "'\\nYour task is to create a Python script that analyzes the records to calculate each of the following:\\n\\n\\nStep 1: The total number of months included in the dataset ✓\\n\\n\\nStep 2: The net total amount of \"Profit/Losses\" over the entire period ✓\\n\\n\\nStep 3: Calculate the changes in \"Profit/Losses\" over the entire period, then find the average of those changes ✓\\n\\n\\nStep 4: The greatest increase in profits (date and amount) over the entire period \\n\\n\\nStep 5: The greatest decrease in profits (date and amount) over the entire period \\n\\n----------------------------------------------------------------------------------------------------------------------------\\n\\nFinancial Analysis\\n----------------------------\\nTotal Months: 86\\nTotal: $38382578\\nAverage  Change: $-2315.12\\nGreatest Increase in Profits: Feb-2012 ($1926159)\\nGreatest Decrease in Profits: Sep-2013 ($-2196167)\\n\\n'"
      ]
     },
     "execution_count": 2,
     "metadata": {},
     "output_type": "execute_result"
    }
   ],
   "source": [
    "\"\"\"\n",
    "Your task is to create a Python script that analyzes the records to calculate each of the following:\n",
    "\n",
    "\n",
    "Step 1: The total number of months included in the dataset ✓\n",
    "\n",
    "\n",
    "Step 2: The net total amount of \"Profit/Losses\" over the entire period ✓\n",
    "\n",
    "\n",
    "Step 3: Calculate the changes in \"Profit/Losses\" over the entire period, then find the average of those changes ✓\n",
    "\n",
    "\n",
    "Step 4: The greatest increase in profits (date and amount) over the entire period \n",
    "\n",
    "\n",
    "Step 5: The greatest decrease in profits (date and amount) over the entire period \n",
    "\n",
    "----------------------------------------------------------------------------------------------------------------------------\n",
    "\n",
    "Financial Analysis\n",
    "----------------------------\n",
    "Total Months: 86\n",
    "Total: $38382578\n",
    "Average  Change: $-2315.12\n",
    "Greatest Increase in Profits: Feb-2012 ($1926159)\n",
    "Greatest Decrease in Profits: Sep-2013 ($-2196167)\n",
    "\n",
    "\"\"\""
   ]
  },
  {
   "cell_type": "code",
   "execution_count": 3,
   "id": "9ec3ec8b-6523-4a57-9c41-fe2c5b8e7cc3",
   "metadata": {},
   "outputs": [
    {
     "data": {
      "text/html": [
       "<div>\n",
       "<style scoped>\n",
       "    .dataframe tbody tr th:only-of-type {\n",
       "        vertical-align: middle;\n",
       "    }\n",
       "\n",
       "    .dataframe tbody tr th {\n",
       "        vertical-align: top;\n",
       "    }\n",
       "\n",
       "    .dataframe thead th {\n",
       "        text-align: right;\n",
       "    }\n",
       "</style>\n",
       "<table border=\"1\" class=\"dataframe\">\n",
       "  <thead>\n",
       "    <tr style=\"text-align: right;\">\n",
       "      <th></th>\n",
       "      <th>Date</th>\n",
       "      <th>Profit/Losses</th>\n",
       "    </tr>\n",
       "  </thead>\n",
       "  <tbody>\n",
       "    <tr>\n",
       "      <th>0</th>\n",
       "      <td>Jan-2010</td>\n",
       "      <td>867884</td>\n",
       "    </tr>\n",
       "    <tr>\n",
       "      <th>1</th>\n",
       "      <td>Feb-2010</td>\n",
       "      <td>984655</td>\n",
       "    </tr>\n",
       "    <tr>\n",
       "      <th>2</th>\n",
       "      <td>Mar-2010</td>\n",
       "      <td>322013</td>\n",
       "    </tr>\n",
       "    <tr>\n",
       "      <th>3</th>\n",
       "      <td>Apr-2010</td>\n",
       "      <td>-69417</td>\n",
       "    </tr>\n",
       "    <tr>\n",
       "      <th>4</th>\n",
       "      <td>May-2010</td>\n",
       "      <td>310503</td>\n",
       "    </tr>\n",
       "  </tbody>\n",
       "</table>\n",
       "</div>"
      ],
      "text/plain": [
       "       Date  Profit/Losses\n",
       "0  Jan-2010         867884\n",
       "1  Feb-2010         984655\n",
       "2  Mar-2010         322013\n",
       "3  Apr-2010         -69417\n",
       "4  May-2010         310503"
      ]
     },
     "execution_count": 3,
     "metadata": {},
     "output_type": "execute_result"
    }
   ],
   "source": [
    "df = pd.read_csv(\"Resources/budget_data.csv\")\n",
    "df.head()"
   ]
  },
  {
   "cell_type": "code",
   "execution_count": 4,
   "id": "05a3d772-c818-42e1-8f9e-48d380e9e74c",
   "metadata": {},
   "outputs": [
    {
     "data": {
      "text/plain": [
       "86"
      ]
     },
     "execution_count": 4,
     "metadata": {},
     "output_type": "execute_result"
    }
   ],
   "source": [
    "#step1 - The total number of months included in the dataset\n",
    "\n",
    "len(df)"
   ]
  },
  {
   "cell_type": "code",
   "execution_count": 5,
   "id": "7d2cdcc6-d744-44d2-adca-7724a28c783c",
   "metadata": {},
   "outputs": [
    {
     "data": {
      "text/plain": [
       "38382578"
      ]
     },
     "execution_count": 5,
     "metadata": {},
     "output_type": "execute_result"
    }
   ],
   "source": [
    "#step2 - The net total amount of \"Profit/Losses\" over the entire period\n",
    "\n",
    "totalpl = df[\"Profit/Losses\"].sum()\n",
    "totalpl"
   ]
  },
  {
   "cell_type": "code",
   "execution_count": 6,
   "id": "dec94da8-6f6a-4a7e-911f-4e81e0c3025b",
   "metadata": {},
   "outputs": [
    {
     "data": {
      "text/plain": [
       "[116771,\n",
       " -662642,\n",
       " -391430,\n",
       " 379920,\n",
       " 212354,\n",
       " 510239,\n",
       " -428211,\n",
       " -821271,\n",
       " 693918,\n",
       " 416278,\n",
       " -974163,\n",
       " 860159,\n",
       " -1115009,\n",
       " 1033048,\n",
       " 95318,\n",
       " -308093,\n",
       " 99052,\n",
       " -521393,\n",
       " 605450,\n",
       " 231727,\n",
       " -65187,\n",
       " -702716,\n",
       " 177975,\n",
       " -1065544,\n",
       " 1926159,\n",
       " -917805,\n",
       " 898730,\n",
       " -334262,\n",
       " -246499,\n",
       " -64055,\n",
       " -1529236,\n",
       " 1497596,\n",
       " 304914,\n",
       " -635801,\n",
       " 398319,\n",
       " -183161,\n",
       " -37864,\n",
       " -253689,\n",
       " 403655,\n",
       " 94168,\n",
       " 306877,\n",
       " -83000,\n",
       " 210462,\n",
       " -2196167,\n",
       " 1465222,\n",
       " -956983,\n",
       " 1838447,\n",
       " -468003,\n",
       " -64602,\n",
       " 206242,\n",
       " -242155,\n",
       " -449079,\n",
       " 315198,\n",
       " 241099,\n",
       " 111540,\n",
       " 365942,\n",
       " -219310,\n",
       " -368665,\n",
       " 409837,\n",
       " 151210,\n",
       " -110244,\n",
       " -341938,\n",
       " -1212159,\n",
       " 683246,\n",
       " -70825,\n",
       " 335594,\n",
       " 417334,\n",
       " -272194,\n",
       " -236462,\n",
       " 657432,\n",
       " -211262,\n",
       " -128237,\n",
       " -1750387,\n",
       " 925441,\n",
       " 932089,\n",
       " -311434,\n",
       " 267252,\n",
       " -1876758,\n",
       " 1733696,\n",
       " 198551,\n",
       " -665765,\n",
       " 693229,\n",
       " -734926,\n",
       " 77242,\n",
       " 532869]"
      ]
     },
     "execution_count": 6,
     "metadata": {},
     "output_type": "execute_result"
    }
   ],
   "source": [
    "#step3.1 - Calculate the changes in \"Profit/Losses\" over the entire period\n",
    "\n",
    "monthly_change = []\n",
    "pl = df[\"Profit/Losses\"].to_list()\n",
    "for i in range(1,len(pl)):\n",
    "    diff = pl[i]-pl[i-1]\n",
    "    monthly_change.append(diff)\n",
    "monthly_change"
   ]
  },
  {
   "cell_type": "code",
   "execution_count": 7,
   "id": "5ae3579b-9697-4e45-92c0-2a091f7606d3",
   "metadata": {},
   "outputs": [
    {
     "data": {
      "text/plain": [
       "-2315.1176470588234"
      ]
     },
     "execution_count": 7,
     "metadata": {},
     "output_type": "execute_result"
    }
   ],
   "source": [
    "#step3.2 -  then find the average of those changes\n",
    "\n",
    "average_profits = sum(monthly_change)/len(monthly_change)\n",
    "average_profits"
   ]
  },
  {
   "cell_type": "code",
   "execution_count": 8,
   "id": "9742df42-2fdf-421a-b517-399100426b71",
   "metadata": {},
   "outputs": [
    {
     "name": "stdout",
     "output_type": "stream",
     "text": [
      "1926159\n"
     ]
    }
   ],
   "source": [
    "#step4 - The greatest increase in profits (date and amount) over the entire period\n",
    "\n",
    "jan_2012 = -755566\n",
    "feb_2012 = 1170593\n",
    "output = feb_2012 - jan_2012 \n",
    "print(output)"
   ]
  },
  {
   "cell_type": "code",
   "execution_count": 9,
   "id": "04da078e-d8ca-45d0-b29e-774e1b499d6f",
   "metadata": {},
   "outputs": [
    {
     "name": "stdout",
     "output_type": "stream",
     "text": [
      "-2196167\n"
     ]
    }
   ],
   "source": [
    "#step5 - The greatest decrease in profits (date and amount) over the entire period \n",
    "\n",
    "aug_2013 = 999942\n",
    "sep_2013 = -1196225 \n",
    "output = sep_2013 - aug_2013\n",
    "print(output)"
   ]
  },
  {
   "cell_type": "code",
   "execution_count": 10,
   "id": "f862c982-1b7f-4b65-8feb-3f7cc1c3c1d0",
   "metadata": {},
   "outputs": [
    {
     "name": "stdout",
     "output_type": "stream",
     "text": [
      "Financial Analysis\n",
      "------------------------\n",
      "Total Months: 86\n",
      "Total: $38382578\n",
      "Average Change: $-2315.1176470588234\n",
      "Greatest Increase in Profits: $1926159)\n",
      "Greatest Decrease in Profits: $-2196167)\n"
     ]
    }
   ],
   "source": [
    "print('Financial Analysis')\n",
    "print('------------------------')\n",
    "print(f'Total Months: {len(df)}')\n",
    "print(f'Total: ${totalpl}')\n",
    "print(f'Average Change: ${average_profits}')\n",
    "print(f'Greatest Increase in Profits: ${feb_2012 - jan_2012})')\n",
    "print(f'Greatest Decrease in Profits: ${sep_2013 - aug_2013})')"
   ]
  },
  {
   "cell_type": "code",
   "execution_count": null,
   "id": "38fb103b-ea0c-4e99-9141-ded198b49099",
   "metadata": {},
   "outputs": [],
   "source": []
  }
 ],
 "metadata": {
  "kernelspec": {
   "display_name": "Python 3 (ipykernel)",
   "language": "python",
   "name": "python3"
  },
  "language_info": {
   "codemirror_mode": {
    "name": "ipython",
    "version": 3
   },
   "file_extension": ".py",
   "mimetype": "text/x-python",
   "name": "python",
   "nbconvert_exporter": "python",
   "pygments_lexer": "ipython3",
   "version": "3.9.7"
  }
 },
 "nbformat": 4,
 "nbformat_minor": 5
}
